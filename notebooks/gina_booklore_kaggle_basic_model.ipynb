{
 "cells": [
  {
   "cell_type": "markdown",
   "id": "9665dc26",
   "metadata": {},
   "source": [
    "# Booksplore - Kaggle Goodreads Dataset"
   ]
  },
  {
   "cell_type": "code",
   "execution_count": 3,
   "id": "3d079bb0",
   "metadata": {},
   "outputs": [
    {
     "ename": "ModuleNotFoundError",
     "evalue": "No module named 'pandas'",
     "output_type": "error",
     "traceback": [
      "\u001b[0;31m---------------------------------------------------------------------------\u001b[0m",
      "\u001b[0;31mModuleNotFoundError\u001b[0m                       Traceback (most recent call last)",
      "Cell \u001b[0;32mIn[3], line 1\u001b[0m\n\u001b[0;32m----> 1\u001b[0m \u001b[38;5;28;01mimport\u001b[39;00m \u001b[38;5;21;01mpandas\u001b[39;00m \u001b[38;5;28;01mas\u001b[39;00m \u001b[38;5;21;01mpd\u001b[39;00m\n\u001b[1;32m      2\u001b[0m \u001b[38;5;28;01mfrom\u001b[39;00m \u001b[38;5;21;01msklearn\u001b[39;00m\u001b[38;5;21;01m.\u001b[39;00m\u001b[38;5;21;01mpreprocessing\u001b[39;00m \u001b[38;5;28;01mimport\u001b[39;00m MultiLabelBinarizer, MinMaxScaler\n\u001b[1;32m      3\u001b[0m \u001b[38;5;28;01mfrom\u001b[39;00m \u001b[38;5;21;01msklearn\u001b[39;00m\u001b[38;5;21;01m.\u001b[39;00m\u001b[38;5;21;01mmetrics\u001b[39;00m\u001b[38;5;21;01m.\u001b[39;00m\u001b[38;5;21;01mpairwise\u001b[39;00m \u001b[38;5;28;01mimport\u001b[39;00m cosine_similarity\n",
      "\u001b[0;31mModuleNotFoundError\u001b[0m: No module named 'pandas'"
     ]
    }
   ],
   "source": [
    "import pandas as pd\n",
    "from sklearn.preprocessing import MultiLabelBinarizer, MinMaxScaler\n",
    "from sklearn.metrics.pairwise import cosine_similarity\n",
    "import ast\n"
   ]
  },
  {
   "cell_type": "markdown",
   "id": "61288da0",
   "metadata": {},
   "source": [
    "## Load dataset"
   ]
  },
  {
   "cell_type": "code",
   "execution_count": null,
   "id": "de40d88b",
   "metadata": {},
   "outputs": [],
   "source": [
    "goodreads_df = pd.read_csv('/Users/gbuck/code/gbuck04/booksplore/books_1.Best_Books_Ever.csv')\n",
    "goodreads_df.head(3)"
   ]
  },
  {
   "cell_type": "markdown",
   "id": "9bfd3d4b",
   "metadata": {},
   "source": [
    "## Preprocessing"
   ]
  },
  {
   "cell_type": "code",
   "execution_count": null,
   "id": "aac3d088",
   "metadata": {},
   "outputs": [],
   "source": [
    "goodreads_df.info()"
   ]
  },
  {
   "cell_type": "code",
   "execution_count": 4,
   "id": "51687f95",
   "metadata": {},
   "outputs": [],
   "source": [
    "# Drop rows with missing essential data and parse genres\n",
    "goodreads_df = goodreads_df.dropna(subset=['genres', 'rating', 'numRatings'])\n",
    "goodreads_df['genres'] = goodreads_df['genres'].apply(lambda x: ast.literal_eval(x) if isinstance(x, str) else [])"
   ]
  },
  {
   "cell_type": "code",
   "execution_count": null,
   "id": "138cd64d",
   "metadata": {},
   "outputs": [],
   "source": [
    "goodreads_df.describe()"
   ]
  },
  {
   "cell_type": "code",
   "execution_count": 6,
   "id": "0f4ac6dd",
   "metadata": {},
   "outputs": [],
   "source": [
    "# Filter books with at least 1000 ratings and a rating of 3.5 or higher\n",
    "filtered_df = goodreads_df[(goodreads_df['numRatings'] >= 1000) & (goodreads_df['rating'] >= 3.5)]"
   ]
  },
  {
   "cell_type": "code",
   "execution_count": null,
   "id": "6ffef6eb",
   "metadata": {},
   "outputs": [],
   "source": [
    "filtered_df.describe()"
   ]
  },
  {
   "cell_type": "code",
   "execution_count": 8,
   "id": "6dd4a812",
   "metadata": {},
   "outputs": [],
   "source": [
    "# One-hot encode genres\n",
    "mlb = MultiLabelBinarizer()\n",
    "genre_features = mlb.fit_transform(filtered_df['genres'])"
   ]
  },
  {
   "cell_type": "code",
   "execution_count": null,
   "id": "3bde3f23",
   "metadata": {},
   "outputs": [],
   "source": [
    "list(mlb.classes_)"
   ]
  },
  {
   "cell_type": "code",
   "execution_count": null,
   "id": "e97ba4f8",
   "metadata": {},
   "outputs": [],
   "source": [
    "# add One-Hot-Encoded genre columns to df\n",
    "genre_features_df = pd.DataFrame(genre_features, columns=mlb.classes_)\n",
    "\n",
    "filtered_df = pd.concat([filtered_df.reset_index(drop=True), genre_features_df.reset_index(drop=True)], axis=1)\n",
    "\n",
    "filtered_df.head(2)"
   ]
  },
  {
   "cell_type": "code",
   "execution_count": 11,
   "id": "128e2219",
   "metadata": {},
   "outputs": [],
   "source": [
    "# Scale the rating to be compatible with genre encoding\n",
    "scaler = MinMaxScaler()\n",
    "rating_features = scaler.fit_transform(filtered_df[['rating']])"
   ]
  },
  {
   "cell_type": "code",
   "execution_count": null,
   "id": "ec1891f6",
   "metadata": {},
   "outputs": [],
   "source": [
    "# Add scaled rating features to df\n",
    "filtered_df['rating_features'] = rating_features\n",
    "filtered_df.head()"
   ]
  },
  {
   "cell_type": "code",
   "execution_count": null,
   "id": "05efafc8",
   "metadata": {},
   "outputs": [],
   "source": [
    "# Combine genre and rating features\n",
    "book_features = pd.concat([pd.DataFrame(genre_features, columns=mlb.classes_), pd.DataFrame(rating_features, columns=['scaled_rating'])], axis=1)\n",
    "book_features"
   ]
  },
  {
   "cell_type": "markdown",
   "id": "528b2e88",
   "metadata": {},
   "source": [
    "## Similarity matrix for content-based filtering model"
   ]
  },
  {
   "cell_type": "code",
   "execution_count": null,
   "id": "cd653e47",
   "metadata": {},
   "outputs": [],
   "source": [
    "# Calculate similarity matrix\n",
    "similarity_matrix = cosine_similarity(book_features)"
   ]
  },
  {
   "cell_type": "code",
   "execution_count": null,
   "id": "15e46e91",
   "metadata": {},
   "outputs": [],
   "source": [
    "# Store similarity matrix in DataFrame for easier access\n",
    "similarity_df = pd.DataFrame(similarity_matrix, index=filtered_df['title'], columns=filtered_df['title'])\n",
    "similarity_df.head()"
   ]
  },
  {
   "cell_type": "code",
   "execution_count": null,
   "id": "fbb1ecb5",
   "metadata": {},
   "outputs": [],
   "source": [
    "# Define the recommendation function\n",
    "def get_recommendations(title, similarity_df, top_n=5):\n",
    "\n",
    "    # Get top N book recommendations based on the similarity matrix.\n",
    "\n",
    "    # Parameters:\n",
    "    # - title: Title of the book for which to find recommendations.\n",
    "    # - similarity_df: DataFrame containing similarity scores between books.\n",
    "    # - top_n: Number of recommendations to return (default is 5).\n",
    "\n",
    "    # Returns:\n",
    "    # - recommendations: Series containing recommended book titles with similarity scores.\n",
    "\n",
    "    # Check if the title exists in the DataFrame\n",
    "    if title not in similarity_df.index:\n",
    "        return f\"Book titled '{title}' not found in the dataset.\"\n",
    "\n",
    "    # Sort similar books by their similarity score in descending order, excluding the book itself\n",
    "    recommendations = similarity_df[title].sort_values(ascending=False)[1:top_n+1]\n",
    "\n",
    "    return recommendations"
   ]
  },
  {
   "cell_type": "code",
   "execution_count": null,
   "id": "18ec295e",
   "metadata": {},
   "outputs": [],
   "source": [
    "title = \"Infinite Jest\"\n",
    "recommendations = get_recommendations(title, similarity_df)\n",
    "print(\"Recommended books based on similarity to:\", title)\n",
    "print(recommendations)"
   ]
  },
  {
   "cell_type": "markdown",
   "id": "c6612af4",
   "metadata": {},
   "source": [
    "# KNN model"
   ]
  },
  {
   "cell_type": "code",
   "execution_count": null,
   "id": "4dcd750f",
   "metadata": {},
   "outputs": [],
   "source": [
    "from sklearn.neighbors import NearestNeighbors\n",
    "\n",
    "knn_model = NearestNeighbors(metric='cosine', algorithm='brute')\n",
    "knn_model.fit(book_features)"
   ]
  },
  {
   "cell_type": "code",
   "execution_count": 15,
   "id": "b0fa586c",
   "metadata": {},
   "outputs": [],
   "source": [
    "def knn_recommendations(title, df, knn_model, top_n=5):\n",
    "\n",
    "    # Get top N book recommendations using a KNN model.\n",
    "\n",
    "    # Parameters:\n",
    "    # - title: Title of the book for which to find recommendations.\n",
    "    # - df: DataFrame containing book information and features.\n",
    "    # - knn_model: Fitted KNN model.\n",
    "    # - top_n: Number of recommendations to return (default is 5).\n",
    "\n",
    "    # Returns:\n",
    "    # - recommendations: Series containing recommended book titles.\n",
    "\n",
    "    # Find the index of the book in the DataFrame\n",
    "    if title not in df['title'].values:\n",
    "        return f\"Book titled '{title}' not found in the dataset.\"\n",
    "\n",
    "    book_idx = df[df['title'] == title].index[0]\n",
    "\n",
    "    # Find distances and indices of the nearest neighbors\n",
    "    distances, indices = knn_model.kneighbors([book_features.iloc[book_idx]], n_neighbors=top_n+1)\n",
    "\n",
    "    # Get the titles of the recommended books (excluding the first one, which is the book itself)\n",
    "    recommended_titles = df.iloc[indices[0][1:]]['title'].values\n",
    "    recommended_distances = distances[0][1:]\n",
    "\n",
    "    # Create a Series with titles and similarity scores\n",
    "    recommendations = pd.Series(recommended_titles, index=recommended_distances, name=\"Recommendations\")\n",
    "\n",
    "    return recommendations"
   ]
  },
  {
   "cell_type": "code",
   "execution_count": null,
   "id": "dbc50c8b",
   "metadata": {},
   "outputs": [],
   "source": [
    "test_title = \"Infinite Jest\"\n",
    "knn_recommendations(test_title, filtered_df, knn_model)"
   ]
  },
  {
   "cell_type": "code",
   "execution_count": null,
   "id": "0387e7f9",
   "metadata": {},
   "outputs": [],
   "source": []
  }
 ],
 "metadata": {
  "kernelspec": {
   "display_name": "booklore",
   "language": "python",
   "name": "python3"
  },
  "language_info": {
   "codemirror_mode": {
    "name": "ipython",
    "version": 3
   },
   "file_extension": ".py",
   "mimetype": "text/x-python",
   "name": "python",
   "nbconvert_exporter": "python",
   "pygments_lexer": "ipython3",
   "version": "3.10.6"
  },
  "toc": {
   "base_numbering": 1,
   "nav_menu": {},
   "number_sections": true,
   "sideBar": true,
   "skip_h1_title": false,
   "title_cell": "Table of Contents",
   "title_sidebar": "Contents",
   "toc_cell": false,
   "toc_position": {},
   "toc_section_display": true,
   "toc_window_display": false
  }
 },
 "nbformat": 4,
 "nbformat_minor": 5
}
